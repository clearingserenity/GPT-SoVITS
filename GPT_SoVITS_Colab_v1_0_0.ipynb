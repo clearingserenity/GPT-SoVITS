{
  "nbformat": 4,
  "nbformat_minor": 0,
  "metadata": {
    "colab": {
      "provenance": [],
      "authorship_tag": "ABX9TyNl39Z2JV4NilBxG3bdHIHD",
      "include_colab_link": true
    },
    "kernelspec": {
      "name": "python3",
      "display_name": "Python 3"
    },
    "language_info": {
      "name": "python"
    }
  },
  "cells": [
    {
      "cell_type": "markdown",
      "metadata": {
        "id": "view-in-github",
        "colab_type": "text"
      },
      "source": [
        "<a href=\"https://colab.research.google.com/github/clearingserenity/GPT-SoVITS/blob/main/GPT_SoVITS_Colab_v1_0_0.ipynb\" target=\"_parent\"><img src=\"https://colab.research.google.com/assets/colab-badge.svg\" alt=\"Open In Colab\"/></a>"
      ]
    },
    {
      "cell_type": "code",
      "source": [
        "%%writefile /content/setup.sh\n",
        "set -e\n",
        "\n",
        "cd /content\n",
        "\n",
        "git clone https://github.com/RVC-Boss/GPT-SoVITS.git\n",
        "\n",
        "cd GPT-SoVITS\n",
        "\n",
        "mkdir -p GPT_weights\n",
        "mkdir -p SoVITS_weights\n",
        "\n",
        "# 安裝必要套件\n",
        "pip install -r requirements.txt\n",
        "pip install gradio torch torchaudio numpy librosa soundfile\n"
      ],
      "metadata": {
        "id": "7UWazYksIpV0"
      },
      "execution_count": null,
      "outputs": []
    },
    {
      "cell_type": "code",
      "source": [
        "!bash /content/setup.sh"
      ],
      "metadata": {
        "id": "E1MGEuK3Itey"
      },
      "execution_count": null,
      "outputs": []
    },
    {
      "cell_type": "code",
      "source": [
        "USER_ID = \"AkitoP\"\n",
        "REPO_NAME = \"GPT-SoVITS-v2-aegi\"\n",
        "BRANCH = \"main\"\n",
        "GPT_PATH = \"new_aegigoe-e100.ckpt\"\n",
        "SOVITS_PATH = \"new_aegigoe_e60_s32220.pth\"\n",
        "\n",
        "HF_BASE = \"https://huggingface.co\"\n",
        "REPO_ID = f\"{USER_ID}/{REPO_NAME}\"\n",
        "GPT_URL = f\"{HF_BASE}/{REPO_ID}/resolve/{BRANCH}/{GPT_PATH}\"\n",
        "SOVITS_URL = f\"{HF_BASE}/{REPO_ID}/resolve/{BRANCH}/{SOVITS_PATH}\"\n",
        "\n",
        "!cd \"/content/GPT-SoVITS/GPT_weights\" && wget \"{GPT_URL}\"\n",
        "!cd \"/content/GPT-SoVITS/SoVITS_weights\" && wget \"{SOVITS_URL}\"\n"
      ],
      "metadata": {
        "id": "s27dp_S1IwLp"
      },
      "execution_count": null,
      "outputs": []
    },
    {
      "cell_type": "code",
      "source": [
        "!cd /content/GPT-SoVITS && export is_share=True && python3 webui.py"
      ],
      "metadata": {
        "id": "Pi_Rly7PIytk"
      },
      "execution_count": null,
      "outputs": []
    }
  ]
}